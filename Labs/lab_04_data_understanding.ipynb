{
  "cells": [
    {
      "cell_type": "markdown",
      "metadata": {
        "id": "amh-zatRQei3"
      },
      "source": [
        "> ### Note on Labs and Assigments:\n",
        ">\n",
        "> 🔧 Look for the **wrench emoji** 🔧 — it highlights where you're expected to take action!\n",
        ">\n",
        "> These sections are graded and are not optional.\n",
        ">"
      ]
    },
    {
      "cell_type": "markdown",
      "metadata": {
        "id": "v37brnQDKQj4"
      },
      "source": [
        "# IS 4487 Lab 4: Data Understanding\n",
        "\n",
        "## Outline\n",
        "\n",
        "- Load and preview a real-world dataset\n",
        "- Inspect structure and profile the data: data types, distributions, identify missing or unusual data such as outliers\n",
        "- Deal with outliers\n",
        "- Perform basic grouped summaries\n",
        "\n",
        "<a href=\"https://colab.research.google.com/github/vandanara/UofUtah_IS4487/blob/main/Labs/lab_04_data_understanding.ipynb\" target=\"_parent\">\n",
        "  <img src=\"https://colab.research.google.com/assets/colab-badge.svg\" alt=\"Open In Colab\"/>\n",
        "</a>\n",
        "\n",
        "If you have any questions about Colab, you can read more here:  \n",
        "https://research.google.com/colaboratory/faq.html\n"
      ]
    },
    {
      "cell_type": "markdown",
      "metadata": {
        "id": "JWQ8j5tOKezP"
      },
      "source": [
        "## Dataset Overview\n",
        "\n",
        "This week we will use data on Bay Area Craigslist rental housing posts.\n",
        "\n",
        "Source: Pennington, Kate (2018). Bay Area Craigslist Rental Housing Posts, 2000-2018. Retrieved from https://github.com/katepennington/historic_bay_area_craigslist_housing_posts/blob/master/clean_2000_2018.csv.zip\n",
        "\n",
        "**Dataset:** `rent.csv`  \n",
        "Source: [TidyTuesday – 2022-07-05](https://github.com/rfordatascience/tidytuesday/blob/main/data/2022/2022-07-05/rent.csv)\n",
        "\n",
        "| Variable       | Type       | Description |\n",
        "|----------------|------------|-------------|\n",
        "| `post_id`      | Categorical| Unique listing ID |\n",
        "| `date`         | Numeric    | Listing date (numeric format) |\n",
        "| `year`         | Integer    | Year of listing |\n",
        "| `nhood`        | Categorical| Neighborhood |\n",
        "| `city`         | Categorical| City |\n",
        "| `county`       | Categorical| County |\n",
        "| `price`        | Numeric    | Listing price (USD) |\n",
        "| `beds`         | Numeric    | Number of bedrooms |\n",
        "| `baths`        | Numeric    | Number of bathrooms |\n",
        "| `sqft`         | Numeric    | Square footage |\n",
        "| `room_in_apt`  | Binary     |  Indicates whether the rental listing is for an entire apartment (0) or a single room within an apartment (1). |\n",
        "| `address`      | Categorical| Street address |\n",
        "| `lat`          | Numeric    | Latitude |\n",
        "| `lon`          | Numeric    | Longitude |\n",
        "| `title`        | Text       | Listing title |\n",
        "| `descr`        | Text       | Listing description |\n",
        "| `details`      | Text       | Additional details |\n"
      ]
    },
    {
      "cell_type": "markdown",
      "metadata": {
        "id": "kYVS2S1qKoYm"
      },
      "source": [
        "## Part 1: Importing the Libraries and Data\n",
        "\n",
        "### Instructions:\n",
        "- Import the `pandas`, `matplotlib` and `seaborn` libraries.\n",
        "- Import data from the rent.csv into a dataframe from the tidytuesday link.\n",
        "- Use `.info()` and `.head()` to inspect the structure and preview the data."
      ]
    },
    {
      "cell_type": "code",
      "source": [
        "# import any libraries that you wish to use\n",
        "import pandas as pd\n",
        "import matplotlib.pyplot as plt\n",
        "import seaborn as sns"
      ],
      "metadata": {
        "id": "nfw0tvrIzZYQ"
      },
      "execution_count": 2,
      "outputs": []
    },
    {
      "cell_type": "code",
      "execution_count": 3,
      "metadata": {
        "id": "33vaVxotH3-i"
      },
      "outputs": [],
      "source": [
        "# import data\n",
        "# we can use a function in pandas called read_csv() to read in csv files.\n",
        "# Similarly there are other functions such as  read_excel(), read_json(), read_html() etc\n",
        "url = \"https://raw.githubusercontent.com/rfordatascience/tidytuesday/refs/heads/main/data/2022/2022-07-05/rent.csv\"\n",
        "df = pd.read_csv(url)"
      ]
    },
    {
      "cell_type": "code",
      "source": [
        "df.info()"
      ],
      "metadata": {
        "id": "c2zf0ZRYdErV",
        "colab": {
          "base_uri": "https://localhost:8080/"
        },
        "outputId": "9a6bf041-24d6-4102-a39c-b96cedcacb5e"
      },
      "execution_count": 10,
      "outputs": [
        {
          "output_type": "stream",
          "name": "stdout",
          "text": [
            "<class 'pandas.core.frame.DataFrame'>\n",
            "RangeIndex: 200796 entries, 0 to 200795\n",
            "Data columns (total 17 columns):\n",
            " #   Column       Non-Null Count   Dtype  \n",
            "---  ------       --------------   -----  \n",
            " 0   post_id      200796 non-null  object \n",
            " 1   date         200796 non-null  int64  \n",
            " 2   year         200796 non-null  int64  \n",
            " 3   nhood        200796 non-null  object \n",
            " 4   city         200796 non-null  object \n",
            " 5   county       199402 non-null  object \n",
            " 6   price        200796 non-null  int64  \n",
            " 7   beds         194188 non-null  float64\n",
            " 8   baths        42675 non-null   float64\n",
            " 9   sqft         64679 non-null   float64\n",
            " 10  room_in_apt  200796 non-null  int64  \n",
            " 11  address      3908 non-null    object \n",
            " 12  lat          7651 non-null    float64\n",
            " 13  lon          4312 non-null    float64\n",
            " 14  title        198279 non-null  object \n",
            " 15  descr        3254 non-null    object \n",
            " 16  details      8016 non-null    object \n",
            "dtypes: float64(5), int64(4), object(8)\n",
            "memory usage: 26.0+ MB\n"
          ]
        }
      ]
    },
    {
      "cell_type": "code",
      "execution_count": 11,
      "metadata": {
        "id": "BuT7PpqZe5x8",
        "colab": {
          "base_uri": "https://localhost:8080/",
          "height": 452
        },
        "outputId": "caa0900b-3ba9-4b8a-af30-acac5e1a9718"
      },
      "outputs": [
        {
          "output_type": "execute_result",
          "data": {
            "text/plain": [
              "          post_id      date  year    nhood     city   county  price  beds  \\\n",
              "0  pre2013_134138  20050111  2005  alameda  alameda  alameda   1250   2.0   \n",
              "1  pre2013_135669  20050126  2005  alameda  alameda  alameda   1295   2.0   \n",
              "2  pre2013_127127  20041017  2004  alameda  alameda  alameda   1100   2.0   \n",
              "3   pre2013_68671  20120601  2012  alameda  alameda  alameda   1425   1.0   \n",
              "4  pre2013_127580  20041021  2004  alameda  alameda  alameda    890   1.0   \n",
              "\n",
              "   baths   sqft  room_in_apt address  lat  lon  \\\n",
              "0    2.0    NaN            0     NaN  NaN  NaN   \n",
              "1    NaN    NaN            0     NaN  NaN  NaN   \n",
              "2    NaN    NaN            0     NaN  NaN  NaN   \n",
              "3    NaN  735.0            0     NaN  NaN  NaN   \n",
              "4    NaN    NaN            0     NaN  NaN  NaN   \n",
              "\n",
              "                                               title descr details  \n",
              "0  $1250 / 2br - 2BR/2BA   1145 ALAMEDA DE LAS PU...   NaN     NaN  \n",
              "1  $1295 / 2br - Walk the Beach! 1 FREE MONTH + $...   NaN     NaN  \n",
              "2                              $1100 / 2br - cottage   NaN     NaN  \n",
              "3  $1425 / 1br - 735ft² - BEST LOCATION SOUTHSHOR...   NaN     NaN  \n",
              "4  $890 / 1br - Classy \"Painted Lady\" VICTORIAN -...   NaN     NaN  "
            ],
            "text/html": [
              "\n",
              "  <div id=\"df-1b0caea9-bf57-44f3-b187-6077dfee122f\" class=\"colab-df-container\">\n",
              "    <div>\n",
              "<style scoped>\n",
              "    .dataframe tbody tr th:only-of-type {\n",
              "        vertical-align: middle;\n",
              "    }\n",
              "\n",
              "    .dataframe tbody tr th {\n",
              "        vertical-align: top;\n",
              "    }\n",
              "\n",
              "    .dataframe thead th {\n",
              "        text-align: right;\n",
              "    }\n",
              "</style>\n",
              "<table border=\"1\" class=\"dataframe\">\n",
              "  <thead>\n",
              "    <tr style=\"text-align: right;\">\n",
              "      <th></th>\n",
              "      <th>post_id</th>\n",
              "      <th>date</th>\n",
              "      <th>year</th>\n",
              "      <th>nhood</th>\n",
              "      <th>city</th>\n",
              "      <th>county</th>\n",
              "      <th>price</th>\n",
              "      <th>beds</th>\n",
              "      <th>baths</th>\n",
              "      <th>sqft</th>\n",
              "      <th>room_in_apt</th>\n",
              "      <th>address</th>\n",
              "      <th>lat</th>\n",
              "      <th>lon</th>\n",
              "      <th>title</th>\n",
              "      <th>descr</th>\n",
              "      <th>details</th>\n",
              "    </tr>\n",
              "  </thead>\n",
              "  <tbody>\n",
              "    <tr>\n",
              "      <th>0</th>\n",
              "      <td>pre2013_134138</td>\n",
              "      <td>20050111</td>\n",
              "      <td>2005</td>\n",
              "      <td>alameda</td>\n",
              "      <td>alameda</td>\n",
              "      <td>alameda</td>\n",
              "      <td>1250</td>\n",
              "      <td>2.0</td>\n",
              "      <td>2.0</td>\n",
              "      <td>NaN</td>\n",
              "      <td>0</td>\n",
              "      <td>NaN</td>\n",
              "      <td>NaN</td>\n",
              "      <td>NaN</td>\n",
              "      <td>$1250 / 2br - 2BR/2BA   1145 ALAMEDA DE LAS PU...</td>\n",
              "      <td>NaN</td>\n",
              "      <td>NaN</td>\n",
              "    </tr>\n",
              "    <tr>\n",
              "      <th>1</th>\n",
              "      <td>pre2013_135669</td>\n",
              "      <td>20050126</td>\n",
              "      <td>2005</td>\n",
              "      <td>alameda</td>\n",
              "      <td>alameda</td>\n",
              "      <td>alameda</td>\n",
              "      <td>1295</td>\n",
              "      <td>2.0</td>\n",
              "      <td>NaN</td>\n",
              "      <td>NaN</td>\n",
              "      <td>0</td>\n",
              "      <td>NaN</td>\n",
              "      <td>NaN</td>\n",
              "      <td>NaN</td>\n",
              "      <td>$1295 / 2br - Walk the Beach! 1 FREE MONTH + $...</td>\n",
              "      <td>NaN</td>\n",
              "      <td>NaN</td>\n",
              "    </tr>\n",
              "    <tr>\n",
              "      <th>2</th>\n",
              "      <td>pre2013_127127</td>\n",
              "      <td>20041017</td>\n",
              "      <td>2004</td>\n",
              "      <td>alameda</td>\n",
              "      <td>alameda</td>\n",
              "      <td>alameda</td>\n",
              "      <td>1100</td>\n",
              "      <td>2.0</td>\n",
              "      <td>NaN</td>\n",
              "      <td>NaN</td>\n",
              "      <td>0</td>\n",
              "      <td>NaN</td>\n",
              "      <td>NaN</td>\n",
              "      <td>NaN</td>\n",
              "      <td>$1100 / 2br - cottage</td>\n",
              "      <td>NaN</td>\n",
              "      <td>NaN</td>\n",
              "    </tr>\n",
              "    <tr>\n",
              "      <th>3</th>\n",
              "      <td>pre2013_68671</td>\n",
              "      <td>20120601</td>\n",
              "      <td>2012</td>\n",
              "      <td>alameda</td>\n",
              "      <td>alameda</td>\n",
              "      <td>alameda</td>\n",
              "      <td>1425</td>\n",
              "      <td>1.0</td>\n",
              "      <td>NaN</td>\n",
              "      <td>735.0</td>\n",
              "      <td>0</td>\n",
              "      <td>NaN</td>\n",
              "      <td>NaN</td>\n",
              "      <td>NaN</td>\n",
              "      <td>$1425 / 1br - 735ft² - BEST LOCATION SOUTHSHOR...</td>\n",
              "      <td>NaN</td>\n",
              "      <td>NaN</td>\n",
              "    </tr>\n",
              "    <tr>\n",
              "      <th>4</th>\n",
              "      <td>pre2013_127580</td>\n",
              "      <td>20041021</td>\n",
              "      <td>2004</td>\n",
              "      <td>alameda</td>\n",
              "      <td>alameda</td>\n",
              "      <td>alameda</td>\n",
              "      <td>890</td>\n",
              "      <td>1.0</td>\n",
              "      <td>NaN</td>\n",
              "      <td>NaN</td>\n",
              "      <td>0</td>\n",
              "      <td>NaN</td>\n",
              "      <td>NaN</td>\n",
              "      <td>NaN</td>\n",
              "      <td>$890 / 1br - Classy \"Painted Lady\" VICTORIAN -...</td>\n",
              "      <td>NaN</td>\n",
              "      <td>NaN</td>\n",
              "    </tr>\n",
              "  </tbody>\n",
              "</table>\n",
              "</div>\n",
              "    <div class=\"colab-df-buttons\">\n",
              "\n",
              "  <div class=\"colab-df-container\">\n",
              "    <button class=\"colab-df-convert\" onclick=\"convertToInteractive('df-1b0caea9-bf57-44f3-b187-6077dfee122f')\"\n",
              "            title=\"Convert this dataframe to an interactive table.\"\n",
              "            style=\"display:none;\">\n",
              "\n",
              "  <svg xmlns=\"http://www.w3.org/2000/svg\" height=\"24px\" viewBox=\"0 -960 960 960\">\n",
              "    <path d=\"M120-120v-720h720v720H120Zm60-500h600v-160H180v160Zm220 220h160v-160H400v160Zm0 220h160v-160H400v160ZM180-400h160v-160H180v160Zm440 0h160v-160H620v160ZM180-180h160v-160H180v160Zm440 0h160v-160H620v160Z\"/>\n",
              "  </svg>\n",
              "    </button>\n",
              "\n",
              "  <style>\n",
              "    .colab-df-container {\n",
              "      display:flex;\n",
              "      gap: 12px;\n",
              "    }\n",
              "\n",
              "    .colab-df-convert {\n",
              "      background-color: #E8F0FE;\n",
              "      border: none;\n",
              "      border-radius: 50%;\n",
              "      cursor: pointer;\n",
              "      display: none;\n",
              "      fill: #1967D2;\n",
              "      height: 32px;\n",
              "      padding: 0 0 0 0;\n",
              "      width: 32px;\n",
              "    }\n",
              "\n",
              "    .colab-df-convert:hover {\n",
              "      background-color: #E2EBFA;\n",
              "      box-shadow: 0px 1px 2px rgba(60, 64, 67, 0.3), 0px 1px 3px 1px rgba(60, 64, 67, 0.15);\n",
              "      fill: #174EA6;\n",
              "    }\n",
              "\n",
              "    .colab-df-buttons div {\n",
              "      margin-bottom: 4px;\n",
              "    }\n",
              "\n",
              "    [theme=dark] .colab-df-convert {\n",
              "      background-color: #3B4455;\n",
              "      fill: #D2E3FC;\n",
              "    }\n",
              "\n",
              "    [theme=dark] .colab-df-convert:hover {\n",
              "      background-color: #434B5C;\n",
              "      box-shadow: 0px 1px 3px 1px rgba(0, 0, 0, 0.15);\n",
              "      filter: drop-shadow(0px 1px 2px rgba(0, 0, 0, 0.3));\n",
              "      fill: #FFFFFF;\n",
              "    }\n",
              "  </style>\n",
              "\n",
              "    <script>\n",
              "      const buttonEl =\n",
              "        document.querySelector('#df-1b0caea9-bf57-44f3-b187-6077dfee122f button.colab-df-convert');\n",
              "      buttonEl.style.display =\n",
              "        google.colab.kernel.accessAllowed ? 'block' : 'none';\n",
              "\n",
              "      async function convertToInteractive(key) {\n",
              "        const element = document.querySelector('#df-1b0caea9-bf57-44f3-b187-6077dfee122f');\n",
              "        const dataTable =\n",
              "          await google.colab.kernel.invokeFunction('convertToInteractive',\n",
              "                                                    [key], {});\n",
              "        if (!dataTable) return;\n",
              "\n",
              "        const docLinkHtml = 'Like what you see? Visit the ' +\n",
              "          '<a target=\"_blank\" href=https://colab.research.google.com/notebooks/data_table.ipynb>data table notebook</a>'\n",
              "          + ' to learn more about interactive tables.';\n",
              "        element.innerHTML = '';\n",
              "        dataTable['output_type'] = 'display_data';\n",
              "        await google.colab.output.renderOutput(dataTable, element);\n",
              "        const docLink = document.createElement('div');\n",
              "        docLink.innerHTML = docLinkHtml;\n",
              "        element.appendChild(docLink);\n",
              "      }\n",
              "    </script>\n",
              "  </div>\n",
              "\n",
              "\n",
              "    <div id=\"df-ba3f6854-e012-47aa-bcb6-4d209636e952\">\n",
              "      <button class=\"colab-df-quickchart\" onclick=\"quickchart('df-ba3f6854-e012-47aa-bcb6-4d209636e952')\"\n",
              "                title=\"Suggest charts\"\n",
              "                style=\"display:none;\">\n",
              "\n",
              "<svg xmlns=\"http://www.w3.org/2000/svg\" height=\"24px\"viewBox=\"0 0 24 24\"\n",
              "     width=\"24px\">\n",
              "    <g>\n",
              "        <path d=\"M19 3H5c-1.1 0-2 .9-2 2v14c0 1.1.9 2 2 2h14c1.1 0 2-.9 2-2V5c0-1.1-.9-2-2-2zM9 17H7v-7h2v7zm4 0h-2V7h2v10zm4 0h-2v-4h2v4z\"/>\n",
              "    </g>\n",
              "</svg>\n",
              "      </button>\n",
              "\n",
              "<style>\n",
              "  .colab-df-quickchart {\n",
              "      --bg-color: #E8F0FE;\n",
              "      --fill-color: #1967D2;\n",
              "      --hover-bg-color: #E2EBFA;\n",
              "      --hover-fill-color: #174EA6;\n",
              "      --disabled-fill-color: #AAA;\n",
              "      --disabled-bg-color: #DDD;\n",
              "  }\n",
              "\n",
              "  [theme=dark] .colab-df-quickchart {\n",
              "      --bg-color: #3B4455;\n",
              "      --fill-color: #D2E3FC;\n",
              "      --hover-bg-color: #434B5C;\n",
              "      --hover-fill-color: #FFFFFF;\n",
              "      --disabled-bg-color: #3B4455;\n",
              "      --disabled-fill-color: #666;\n",
              "  }\n",
              "\n",
              "  .colab-df-quickchart {\n",
              "    background-color: var(--bg-color);\n",
              "    border: none;\n",
              "    border-radius: 50%;\n",
              "    cursor: pointer;\n",
              "    display: none;\n",
              "    fill: var(--fill-color);\n",
              "    height: 32px;\n",
              "    padding: 0;\n",
              "    width: 32px;\n",
              "  }\n",
              "\n",
              "  .colab-df-quickchart:hover {\n",
              "    background-color: var(--hover-bg-color);\n",
              "    box-shadow: 0 1px 2px rgba(60, 64, 67, 0.3), 0 1px 3px 1px rgba(60, 64, 67, 0.15);\n",
              "    fill: var(--button-hover-fill-color);\n",
              "  }\n",
              "\n",
              "  .colab-df-quickchart-complete:disabled,\n",
              "  .colab-df-quickchart-complete:disabled:hover {\n",
              "    background-color: var(--disabled-bg-color);\n",
              "    fill: var(--disabled-fill-color);\n",
              "    box-shadow: none;\n",
              "  }\n",
              "\n",
              "  .colab-df-spinner {\n",
              "    border: 2px solid var(--fill-color);\n",
              "    border-color: transparent;\n",
              "    border-bottom-color: var(--fill-color);\n",
              "    animation:\n",
              "      spin 1s steps(1) infinite;\n",
              "  }\n",
              "\n",
              "  @keyframes spin {\n",
              "    0% {\n",
              "      border-color: transparent;\n",
              "      border-bottom-color: var(--fill-color);\n",
              "      border-left-color: var(--fill-color);\n",
              "    }\n",
              "    20% {\n",
              "      border-color: transparent;\n",
              "      border-left-color: var(--fill-color);\n",
              "      border-top-color: var(--fill-color);\n",
              "    }\n",
              "    30% {\n",
              "      border-color: transparent;\n",
              "      border-left-color: var(--fill-color);\n",
              "      border-top-color: var(--fill-color);\n",
              "      border-right-color: var(--fill-color);\n",
              "    }\n",
              "    40% {\n",
              "      border-color: transparent;\n",
              "      border-right-color: var(--fill-color);\n",
              "      border-top-color: var(--fill-color);\n",
              "    }\n",
              "    60% {\n",
              "      border-color: transparent;\n",
              "      border-right-color: var(--fill-color);\n",
              "    }\n",
              "    80% {\n",
              "      border-color: transparent;\n",
              "      border-right-color: var(--fill-color);\n",
              "      border-bottom-color: var(--fill-color);\n",
              "    }\n",
              "    90% {\n",
              "      border-color: transparent;\n",
              "      border-bottom-color: var(--fill-color);\n",
              "    }\n",
              "  }\n",
              "</style>\n",
              "\n",
              "      <script>\n",
              "        async function quickchart(key) {\n",
              "          const quickchartButtonEl =\n",
              "            document.querySelector('#' + key + ' button');\n",
              "          quickchartButtonEl.disabled = true;  // To prevent multiple clicks.\n",
              "          quickchartButtonEl.classList.add('colab-df-spinner');\n",
              "          try {\n",
              "            const charts = await google.colab.kernel.invokeFunction(\n",
              "                'suggestCharts', [key], {});\n",
              "          } catch (error) {\n",
              "            console.error('Error during call to suggestCharts:', error);\n",
              "          }\n",
              "          quickchartButtonEl.classList.remove('colab-df-spinner');\n",
              "          quickchartButtonEl.classList.add('colab-df-quickchart-complete');\n",
              "        }\n",
              "        (() => {\n",
              "          let quickchartButtonEl =\n",
              "            document.querySelector('#df-ba3f6854-e012-47aa-bcb6-4d209636e952 button');\n",
              "          quickchartButtonEl.style.display =\n",
              "            google.colab.kernel.accessAllowed ? 'block' : 'none';\n",
              "        })();\n",
              "      </script>\n",
              "    </div>\n",
              "\n",
              "    </div>\n",
              "  </div>\n"
            ],
            "application/vnd.google.colaboratory.intrinsic+json": {
              "type": "dataframe",
              "variable_name": "df"
            }
          },
          "metadata": {},
          "execution_count": 11
        }
      ],
      "source": [
        "df.head()"
      ]
    },
    {
      "cell_type": "markdown",
      "metadata": {
        "id": "LRR8uf6_M7ze"
      },
      "source": [
        "### 🔧 Try It Yourself - Part 1\n",
        "\n",
        "1. Add one line of code to print the number of rows and columns. To get the size of the table, use the .shape attribute of the Dataframe."
      ]
    },
    {
      "cell_type": "code",
      "execution_count": 9,
      "metadata": {
        "id": "4WRz1cxkM9O3",
        "colab": {
          "base_uri": "https://localhost:8080/"
        },
        "outputId": "5562a373-ba63-4c55-c2c1-1b72d5354441"
      },
      "outputs": [
        {
          "output_type": "stream",
          "name": "stdout",
          "text": [
            "(200796, 17)\n"
          ]
        }
      ],
      "source": [
        "# Add code here 🔧\n",
        "print(df.shape)"
      ]
    },
    {
      "cell_type": "markdown",
      "metadata": {
        "id": "LTcsPUAxK7tz"
      },
      "source": [
        "## Part 2: Inspecting/Profiling Data, Checking Datatypes & Identifying Outliers\n",
        "\n",
        "### Instructions:\n",
        "- Identify whether variables have missing values.\n",
        "- Check data types (e.g., dates, numeric columns). These are inferred. Do they look appropriate?\n",
        "- Check for outliers key numeric variables like `price`, `sqft`, `beds`, or `baths`. Outliers are extreme or unusally low or high values compared to most others.\n",
        "\n"
      ]
    },
    {
      "cell_type": "code",
      "execution_count": 8,
      "metadata": {
        "id": "q9Eccob9LgAL",
        "colab": {
          "base_uri": "https://localhost:8080/",
          "height": 617
        },
        "outputId": "b08ca96e-eaf4-4058-b82b-282a9acd5758"
      },
      "outputs": [
        {
          "output_type": "execute_result",
          "data": {
            "text/plain": [
              "post_id             0\n",
              "date                0\n",
              "year                0\n",
              "nhood               0\n",
              "city                0\n",
              "county           1394\n",
              "price               0\n",
              "beds             6608\n",
              "baths          158121\n",
              "sqft           136117\n",
              "room_in_apt         0\n",
              "address        196888\n",
              "lat            193145\n",
              "lon            196484\n",
              "title            2517\n",
              "descr          197542\n",
              "details        192780\n",
              "dtype: int64"
            ],
            "text/html": [
              "<div>\n",
              "<style scoped>\n",
              "    .dataframe tbody tr th:only-of-type {\n",
              "        vertical-align: middle;\n",
              "    }\n",
              "\n",
              "    .dataframe tbody tr th {\n",
              "        vertical-align: top;\n",
              "    }\n",
              "\n",
              "    .dataframe thead th {\n",
              "        text-align: right;\n",
              "    }\n",
              "</style>\n",
              "<table border=\"1\" class=\"dataframe\">\n",
              "  <thead>\n",
              "    <tr style=\"text-align: right;\">\n",
              "      <th></th>\n",
              "      <th>0</th>\n",
              "    </tr>\n",
              "  </thead>\n",
              "  <tbody>\n",
              "    <tr>\n",
              "      <th>post_id</th>\n",
              "      <td>0</td>\n",
              "    </tr>\n",
              "    <tr>\n",
              "      <th>date</th>\n",
              "      <td>0</td>\n",
              "    </tr>\n",
              "    <tr>\n",
              "      <th>year</th>\n",
              "      <td>0</td>\n",
              "    </tr>\n",
              "    <tr>\n",
              "      <th>nhood</th>\n",
              "      <td>0</td>\n",
              "    </tr>\n",
              "    <tr>\n",
              "      <th>city</th>\n",
              "      <td>0</td>\n",
              "    </tr>\n",
              "    <tr>\n",
              "      <th>county</th>\n",
              "      <td>1394</td>\n",
              "    </tr>\n",
              "    <tr>\n",
              "      <th>price</th>\n",
              "      <td>0</td>\n",
              "    </tr>\n",
              "    <tr>\n",
              "      <th>beds</th>\n",
              "      <td>6608</td>\n",
              "    </tr>\n",
              "    <tr>\n",
              "      <th>baths</th>\n",
              "      <td>158121</td>\n",
              "    </tr>\n",
              "    <tr>\n",
              "      <th>sqft</th>\n",
              "      <td>136117</td>\n",
              "    </tr>\n",
              "    <tr>\n",
              "      <th>room_in_apt</th>\n",
              "      <td>0</td>\n",
              "    </tr>\n",
              "    <tr>\n",
              "      <th>address</th>\n",
              "      <td>196888</td>\n",
              "    </tr>\n",
              "    <tr>\n",
              "      <th>lat</th>\n",
              "      <td>193145</td>\n",
              "    </tr>\n",
              "    <tr>\n",
              "      <th>lon</th>\n",
              "      <td>196484</td>\n",
              "    </tr>\n",
              "    <tr>\n",
              "      <th>title</th>\n",
              "      <td>2517</td>\n",
              "    </tr>\n",
              "    <tr>\n",
              "      <th>descr</th>\n",
              "      <td>197542</td>\n",
              "    </tr>\n",
              "    <tr>\n",
              "      <th>details</th>\n",
              "      <td>192780</td>\n",
              "    </tr>\n",
              "  </tbody>\n",
              "</table>\n",
              "</div><br><label><b>dtype:</b> int64</label>"
            ]
          },
          "metadata": {},
          "execution_count": 8
        }
      ],
      "source": [
        "# Check for missing values - get a count for each column\n",
        "df.isnull().sum()"
      ]
    },
    {
      "cell_type": "code",
      "execution_count": null,
      "metadata": {
        "id": "zA6m2sUVLgkW"
      },
      "outputs": [],
      "source": [
        "# Basic summary statistics\n",
        "df[['price', 'beds', 'baths', 'sqft']].describe()"
      ]
    },
    {
      "cell_type": "code",
      "execution_count": null,
      "metadata": {
        "id": "CPdtXYamLkPQ"
      },
      "outputs": [],
      "source": [
        "# Check data types\n",
        "df.dtypes"
      ]
    },
    {
      "cell_type": "markdown",
      "source": [
        "Data types are inferred.\n",
        "- Numeric valus are either `int` (discrete, whole numbers with no limit) or `float` (continuous decimals with no limit). 64 is the default number of bits used to store the int or float.\n",
        "- String/text is stored as `object`.\n",
        "- Note that the inferred datatypes are not always ideal. For instance categorical is not used automatically. We have to set that. `categorical` is best when there are only a limited number of allowed values in the data. This can be numerical variables (0 or 1) or text variables with only some values to choose from (nhood, city, county)\n",
        "- The date column is set as int, i.e. date is treated as integer. We will need to change this to `datetime` manually.\n"
      ],
      "metadata": {
        "id": "YWVIc8cOMfN1"
      }
    },
    {
      "cell_type": "code",
      "source": [
        "#change the following object and int variables to categorical\n",
        "df['nhood']=df['nhood'].astype('category')\n",
        "df['city']=df['city'].astype('category')\n",
        "df['county']=df['county'].astype('category')\n",
        "\n",
        "#change the date column to datetime\n",
        "df['date']=pd.to_datetime(df['date'], errors = 'coerce')\n"
      ],
      "metadata": {
        "id": "8De2WgLTN5R2"
      },
      "execution_count": 12,
      "outputs": []
    },
    {
      "cell_type": "code",
      "source": [
        "#check dtypes again to verify changes\n",
        "df.dtypes"
      ],
      "metadata": {
        "id": "KS-ODlfVe23Q",
        "colab": {
          "base_uri": "https://localhost:8080/",
          "height": 617
        },
        "outputId": "7478a526-8813-4740-baaf-44eb7da727a5"
      },
      "execution_count": 13,
      "outputs": [
        {
          "output_type": "execute_result",
          "data": {
            "text/plain": [
              "post_id                object\n",
              "date           datetime64[ns]\n",
              "year                    int64\n",
              "nhood                category\n",
              "city                 category\n",
              "county               category\n",
              "price                   int64\n",
              "beds                  float64\n",
              "baths                 float64\n",
              "sqft                  float64\n",
              "room_in_apt             int64\n",
              "address                object\n",
              "lat                   float64\n",
              "lon                   float64\n",
              "title                  object\n",
              "descr                  object\n",
              "details                object\n",
              "dtype: object"
            ],
            "text/html": [
              "<div>\n",
              "<style scoped>\n",
              "    .dataframe tbody tr th:only-of-type {\n",
              "        vertical-align: middle;\n",
              "    }\n",
              "\n",
              "    .dataframe tbody tr th {\n",
              "        vertical-align: top;\n",
              "    }\n",
              "\n",
              "    .dataframe thead th {\n",
              "        text-align: right;\n",
              "    }\n",
              "</style>\n",
              "<table border=\"1\" class=\"dataframe\">\n",
              "  <thead>\n",
              "    <tr style=\"text-align: right;\">\n",
              "      <th></th>\n",
              "      <th>0</th>\n",
              "    </tr>\n",
              "  </thead>\n",
              "  <tbody>\n",
              "    <tr>\n",
              "      <th>post_id</th>\n",
              "      <td>object</td>\n",
              "    </tr>\n",
              "    <tr>\n",
              "      <th>date</th>\n",
              "      <td>datetime64[ns]</td>\n",
              "    </tr>\n",
              "    <tr>\n",
              "      <th>year</th>\n",
              "      <td>int64</td>\n",
              "    </tr>\n",
              "    <tr>\n",
              "      <th>nhood</th>\n",
              "      <td>category</td>\n",
              "    </tr>\n",
              "    <tr>\n",
              "      <th>city</th>\n",
              "      <td>category</td>\n",
              "    </tr>\n",
              "    <tr>\n",
              "      <th>county</th>\n",
              "      <td>category</td>\n",
              "    </tr>\n",
              "    <tr>\n",
              "      <th>price</th>\n",
              "      <td>int64</td>\n",
              "    </tr>\n",
              "    <tr>\n",
              "      <th>beds</th>\n",
              "      <td>float64</td>\n",
              "    </tr>\n",
              "    <tr>\n",
              "      <th>baths</th>\n",
              "      <td>float64</td>\n",
              "    </tr>\n",
              "    <tr>\n",
              "      <th>sqft</th>\n",
              "      <td>float64</td>\n",
              "    </tr>\n",
              "    <tr>\n",
              "      <th>room_in_apt</th>\n",
              "      <td>int64</td>\n",
              "    </tr>\n",
              "    <tr>\n",
              "      <th>address</th>\n",
              "      <td>object</td>\n",
              "    </tr>\n",
              "    <tr>\n",
              "      <th>lat</th>\n",
              "      <td>float64</td>\n",
              "    </tr>\n",
              "    <tr>\n",
              "      <th>lon</th>\n",
              "      <td>float64</td>\n",
              "    </tr>\n",
              "    <tr>\n",
              "      <th>title</th>\n",
              "      <td>object</td>\n",
              "    </tr>\n",
              "    <tr>\n",
              "      <th>descr</th>\n",
              "      <td>object</td>\n",
              "    </tr>\n",
              "    <tr>\n",
              "      <th>details</th>\n",
              "      <td>object</td>\n",
              "    </tr>\n",
              "  </tbody>\n",
              "</table>\n",
              "</div><br><label><b>dtype:</b> object</label>"
            ]
          },
          "metadata": {},
          "execution_count": 13
        }
      ]
    },
    {
      "cell_type": "markdown",
      "source": [
        "### Outlier analysis\n",
        "To see whether a variable contains outlier (points that are very different in value from the rest), we can create a **boxplot** of the variable.\n",
        "\n",
        "In a boxplot, the box covers the interquartile range (IQR) from 25-75 percentile of the data, and the whiskers (T lines) extend to a certain range (1.5 times the IQR) from the box. Any data points that fall outside of this whisker range are considered outliers and are plotted individually as points."
      ],
      "metadata": {
        "id": "muyRP9rOc5Uc"
      }
    },
    {
      "cell_type": "code",
      "execution_count": 14,
      "metadata": {
        "id": "-xYt1QWgMQRP",
        "colab": {
          "base_uri": "https://localhost:8080/",
          "height": 472
        },
        "outputId": "81af2c1b-f646-4449-b1d8-7809a0a8b8ef"
      },
      "outputs": [
        {
          "output_type": "display_data",
          "data": {
            "text/plain": [
              "<Figure size 640x480 with 1 Axes>"
            ],
            "image/png": "[encoded data removed]"
          },
          "metadata": {}
        }
      ],
      "source": [
        "# Boxplot of price\n",
        "sns.boxplot(x=df['price'])\n",
        "plt.title(\"Boxplot of Rental Price\")\n",
        "plt.show()"
      ]
    },
    {
      "cell_type": "code",
      "execution_count": 15,
      "metadata": {
        "id": "HxH96RSZMWTF"
      },
      "outputs": [],
      "source": [
        "# Remove price outliers (keep 1st–99th percentile)\n",
        "q_low = df['price'].quantile(0.01)\n",
        "q_high = df['price'].quantile(0.99)\n",
        "df = df[(df['price'] >= q_low) & (df['price'] <= q_high)]"
      ]
    },
    {
      "cell_type": "code",
      "source": [
        "#check the shape to see how many rows were removed/lost when we dropped outliers in price\n",
        "df.shape"
      ],
      "metadata": {
        "id": "6H61S4M-pne-",
        "colab": {
          "base_uri": "https://localhost:8080/"
        },
        "outputId": "c50ac556-b2a3-4c67-caca-fb6eee284e86"
      },
      "execution_count": 16,
      "outputs": [
        {
          "output_type": "execute_result",
          "data": {
            "text/plain": [
              "(197021, 17)"
            ]
          },
          "metadata": {},
          "execution_count": 16
        }
      ]
    },
    {
      "cell_type": "code",
      "source": [
        "# the plot should have fewer outliers now - see for yourself\n",
        "sns.boxplot(x=df['price'])\n",
        "plt.title(\"Boxplot of Rental Price with outliers removed\")\n",
        "plt.show()"
      ],
      "metadata": {
        "id": "3uLbKwJFVreD",
        "colab": {
          "base_uri": "https://localhost:8080/",
          "height": 472
        },
        "outputId": "3dfeb935-f780-4658-a61b-8d6c1dc80488"
      },
      "execution_count": 17,
      "outputs": [
        {
          "output_type": "display_data",
          "data": {
            "text/plain": [
              "<Figure size 640x480 with 1 Axes>"
            ],
            "image/png": "[encoded data removed]"
          },
          "metadata": {}
        }
      ]
    },
    {
      "cell_type": "markdown",
      "metadata": {
        "id": "Dr_fml6uMZQj"
      },
      "source": [
        "### 🔧 Try It Yourself – Part 2\n",
        "\n",
        "1. Change the datatype of room_in_apt to categorical and print dtypes to verify that it has been changed.\n",
        "\n",
        "2. Use `.describe()` and a boxplot to check for outliers in **square footage (`sqft`)**.\n",
        "\n",
        "3. What patterns or issues do you see with square footage values? Is there anything unusual? You dont need to remove the outliers here - leave them.\n"
      ]
    },
    {
      "cell_type": "code",
      "execution_count": 27,
      "metadata": {
        "id": "it-Qoh9GMw5p",
        "colab": {
          "base_uri": "https://localhost:8080/",
          "height": 1000
        },
        "outputId": "9ed595a2-bf95-43fc-c35a-05701ac1367a"
      },
      "outputs": [
        {
          "output_type": "stream",
          "name": "stderr",
          "text": [
            "/tmp/ipython-input-1559823880.py:3: SettingWithCopyWarning: \n",
            "A value is trying to be set on a copy of a slice from a DataFrame.\n",
            "Try using .loc[row_indexer,col_indexer] = value instead\n",
            "\n",
            "See the caveats in the documentation: https://pandas.pydata.org/pandas-docs/stable/user_guide/indexing.html#returning-a-view-versus-a-copy\n",
            "  df['room_in_apt']=df['room_in_apt'].astype('category')\n"
          ]
        },
        {
          "output_type": "stream",
          "name": "stdout",
          "text": [
            "post_id                object\n",
            "date           datetime64[ns]\n",
            "year                    int64\n",
            "nhood                category\n",
            "city                 category\n",
            "county               category\n",
            "price                   int64\n",
            "beds                  float64\n",
            "baths                 float64\n",
            "sqft                  float64\n",
            "room_in_apt          category\n",
            "address                object\n",
            "lat                   float64\n",
            "lon                   float64\n",
            "title                  object\n",
            "descr                  object\n",
            "details                object\n",
            "dtype: object\n",
            "count     63588.000000\n",
            "mean       1174.754576\n",
            "std        5033.363160\n",
            "min          80.000000\n",
            "25%         750.000000\n",
            "50%        1000.000000\n",
            "75%        1340.000000\n",
            "max      900000.000000\n",
            "Name: sqft, dtype: float64\n"
          ]
        },
        {
          "output_type": "display_data",
          "data": {
            "text/plain": [
              "<Figure size 640x480 with 1 Axes>"
            ],
            "image/png": "[encoded data removed]"
          },
          "metadata": {}
        }
      ],
      "source": [
        "# Add code here 🔧\n",
        "# Changing the datatype of room_in_apt to categorical and verifying that it was changed\n",
        "df['room_in_apt']=df['room_in_apt'].astype('category')\n",
        "print(df.dtypes)\n",
        "\n",
        "# Create boxplot and check for outliers in sqft alongside .describe()\n",
        "print(df['sqft'].describe())\n",
        "sns.boxplot(x=df['sqft'])\n",
        "plt.title(\"Boxplot of Square Footage\")\n",
        "plt.show()\n",
        "\n",
        "# Answer to question: I see extreme outliers that are heavily distoring the data. In order to create\n",
        "# a bettter boxplot, we need to remove the outliers, particularly the extremely high upper band of 90,000.\n"
      ]
    },
    {
      "cell_type": "code",
      "source": [
        "# N/A. All my code fit into the previous cell.\n",
        "\n"
      ],
      "metadata": {
        "id": "GPHWQBjKg30t"
      },
      "execution_count": null,
      "outputs": []
    },
    {
      "cell_type": "markdown",
      "metadata": {
        "id": "7t4H5zYYNEX3"
      },
      "source": [
        "🔧 Add comment here:\n"
      ]
    },
    {
      "cell_type": "markdown",
      "metadata": {
        "id": "KVYBR3qEMe93"
      },
      "source": [
        "## Part 3: Basic Exploration\n",
        "\n",
        "### Instructions:\n",
        "\n",
        "- Use `groupby` and `value_counts` to summarize trends across neighborhoods and cities.\n"
      ]
    },
    {
      "cell_type": "code",
      "execution_count": 28,
      "metadata": {
        "id": "MTXDO5Q7Midp",
        "colab": {
          "base_uri": "https://localhost:8080/",
          "height": 484
        },
        "outputId": "852442c8-482f-4f69-8f0a-7071645b345e"
      },
      "outputs": [
        {
          "output_type": "stream",
          "name": "stderr",
          "text": [
            "/tmp/ipython-input-2269547214.py:2: FutureWarning: The default of observed=False is deprecated and will be changed to True in a future version of pandas. Pass observed=False to retain current behavior or observed=True to adopt the future default and silence this warning.\n",
            "  df.groupby('nhood')['price'].mean().sort_values(ascending=False).head(10)\n"
          ]
        },
        {
          "output_type": "execute_result",
          "data": {
            "text/plain": [
              "nhood\n",
              "inverness                              5310.000000\n",
              "tiburon / belvedere                    3470.911197\n",
              "SOMA / south beach                     3450.726223\n",
              "financial district                     3431.484935\n",
              "saratoga                               3393.803279\n",
              "west portal / forest hills             3302.753388\n",
              "NOPA                                   3186.456667\n",
              "pacific heights                        3022.314860\n",
              "candlestick point                      3011.316239\n",
              "presidio hts / laurel hts / lake st    2986.170631\n",
              "Name: price, dtype: float64"
            ],
            "text/html": [
              "<div>\n",
              "<style scoped>\n",
              "    .dataframe tbody tr th:only-of-type {\n",
              "        vertical-align: middle;\n",
              "    }\n",
              "\n",
              "    .dataframe tbody tr th {\n",
              "        vertical-align: top;\n",
              "    }\n",
              "\n",
              "    .dataframe thead th {\n",
              "        text-align: right;\n",
              "    }\n",
              "</style>\n",
              "<table border=\"1\" class=\"dataframe\">\n",
              "  <thead>\n",
              "    <tr style=\"text-align: right;\">\n",
              "      <th></th>\n",
              "      <th>price</th>\n",
              "    </tr>\n",
              "    <tr>\n",
              "      <th>nhood</th>\n",
              "      <th></th>\n",
              "    </tr>\n",
              "  </thead>\n",
              "  <tbody>\n",
              "    <tr>\n",
              "      <th>inverness</th>\n",
              "      <td>5310.000000</td>\n",
              "    </tr>\n",
              "    <tr>\n",
              "      <th>tiburon / belvedere</th>\n",
              "      <td>3470.911197</td>\n",
              "    </tr>\n",
              "    <tr>\n",
              "      <th>SOMA / south beach</th>\n",
              "      <td>3450.726223</td>\n",
              "    </tr>\n",
              "    <tr>\n",
              "      <th>financial district</th>\n",
              "      <td>3431.484935</td>\n",
              "    </tr>\n",
              "    <tr>\n",
              "      <th>saratoga</th>\n",
              "      <td>3393.803279</td>\n",
              "    </tr>\n",
              "    <tr>\n",
              "      <th>west portal / forest hills</th>\n",
              "      <td>3302.753388</td>\n",
              "    </tr>\n",
              "    <tr>\n",
              "      <th>NOPA</th>\n",
              "      <td>3186.456667</td>\n",
              "    </tr>\n",
              "    <tr>\n",
              "      <th>pacific heights</th>\n",
              "      <td>3022.314860</td>\n",
              "    </tr>\n",
              "    <tr>\n",
              "      <th>candlestick point</th>\n",
              "      <td>3011.316239</td>\n",
              "    </tr>\n",
              "    <tr>\n",
              "      <th>presidio hts / laurel hts / lake st</th>\n",
              "      <td>2986.170631</td>\n",
              "    </tr>\n",
              "  </tbody>\n",
              "</table>\n",
              "</div><br><label><b>dtype:</b> float64</label>"
            ]
          },
          "metadata": {},
          "execution_count": 28
        }
      ],
      "source": [
        "# Average price by neighborhood\n",
        "df.groupby('nhood')['price'].mean().sort_values(ascending=False).head(10)"
      ]
    },
    {
      "cell_type": "code",
      "execution_count": 29,
      "metadata": {
        "id": "d4VPc9bbMnnf",
        "colab": {
          "base_uri": "https://localhost:8080/",
          "height": 429
        },
        "outputId": "a6aa8d9c-5e98-4290-84a0-8a9035225be9"
      },
      "outputs": [
        {
          "output_type": "execute_result",
          "data": {
            "text/plain": [
              "city\n",
              "san francisco    54264\n",
              "san jose         13564\n",
              "oakland           9308\n",
              "santa rosa        6163\n",
              "santa cruz        5407\n",
              "san mateo         5094\n",
              "sunnyvale         4480\n",
              "mountain view     4382\n",
              "santa clara       4132\n",
              "berkeley          4067\n",
              "Name: count, dtype: int64"
            ],
            "text/html": [
              "<div>\n",
              "<style scoped>\n",
              "    .dataframe tbody tr th:only-of-type {\n",
              "        vertical-align: middle;\n",
              "    }\n",
              "\n",
              "    .dataframe tbody tr th {\n",
              "        vertical-align: top;\n",
              "    }\n",
              "\n",
              "    .dataframe thead th {\n",
              "        text-align: right;\n",
              "    }\n",
              "</style>\n",
              "<table border=\"1\" class=\"dataframe\">\n",
              "  <thead>\n",
              "    <tr style=\"text-align: right;\">\n",
              "      <th></th>\n",
              "      <th>count</th>\n",
              "    </tr>\n",
              "    <tr>\n",
              "      <th>city</th>\n",
              "      <th></th>\n",
              "    </tr>\n",
              "  </thead>\n",
              "  <tbody>\n",
              "    <tr>\n",
              "      <th>san francisco</th>\n",
              "      <td>54264</td>\n",
              "    </tr>\n",
              "    <tr>\n",
              "      <th>san jose</th>\n",
              "      <td>13564</td>\n",
              "    </tr>\n",
              "    <tr>\n",
              "      <th>oakland</th>\n",
              "      <td>9308</td>\n",
              "    </tr>\n",
              "    <tr>\n",
              "      <th>santa rosa</th>\n",
              "      <td>6163</td>\n",
              "    </tr>\n",
              "    <tr>\n",
              "      <th>santa cruz</th>\n",
              "      <td>5407</td>\n",
              "    </tr>\n",
              "    <tr>\n",
              "      <th>san mateo</th>\n",
              "      <td>5094</td>\n",
              "    </tr>\n",
              "    <tr>\n",
              "      <th>sunnyvale</th>\n",
              "      <td>4480</td>\n",
              "    </tr>\n",
              "    <tr>\n",
              "      <th>mountain view</th>\n",
              "      <td>4382</td>\n",
              "    </tr>\n",
              "    <tr>\n",
              "      <th>santa clara</th>\n",
              "      <td>4132</td>\n",
              "    </tr>\n",
              "    <tr>\n",
              "      <th>berkeley</th>\n",
              "      <td>4067</td>\n",
              "    </tr>\n",
              "  </tbody>\n",
              "</table>\n",
              "</div><br><label><b>dtype:</b> int64</label>"
            ]
          },
          "metadata": {},
          "execution_count": 29
        }
      ],
      "source": [
        "# Top cities by count\n",
        "df['city'].value_counts().head(10)"
      ]
    },
    {
      "cell_type": "markdown",
      "metadata": {
        "id": "_NN-83MbMtlh"
      },
      "source": [
        "### 🔧 Try It Yourself – Part 3\n",
        "\n",
        "Explore the data by performing both of the following:\n",
        "\n",
        "1. Group the listings by `year` and calculate the average price for each year.\n",
        "2. Use `.value_counts()` on the `room_in_apt` column to see how common room rentals are.\n",
        "\n",
        "3. Add a short comment or markdown cell describing any trends or insights you found.\n"
      ]
    },
    {
      "cell_type": "code",
      "execution_count": 35,
      "metadata": {
        "id": "gQbcYcOPNMws",
        "colab": {
          "base_uri": "https://localhost:8080/",
          "height": 551
        },
        "outputId": "67777499-c8d0-44c8-ae16-81d9bd2dcfb2"
      },
      "outputs": [
        {
          "output_type": "stream",
          "name": "stdout",
          "text": [
            "year\n",
            "2000    1510.952381\n",
            "2001    2009.739310\n",
            "2002    1669.556738\n",
            "2003    1573.383743\n",
            "2004    1642.277840\n",
            "2005    1506.983871\n",
            "2006    1764.345831\n",
            "2007    2033.602596\n",
            "2008    2010.951895\n",
            "2009    1882.756691\n",
            "2010    1795.600296\n",
            "2011    2021.713915\n",
            "2012    2056.291743\n",
            "2013    2492.213802\n",
            "2014    2656.825700\n",
            "2015    2844.753398\n",
            "2016    2795.165914\n",
            "2017    2884.878224\n",
            "2018    2860.209527\n",
            "Name: price, dtype: float64\n"
          ]
        },
        {
          "output_type": "execute_result",
          "data": {
            "text/plain": [
              "room_in_apt\n",
              "0    196767\n",
              "1       254\n",
              "Name: count, dtype: int64"
            ],
            "text/html": [
              "<div>\n",
              "<style scoped>\n",
              "    .dataframe tbody tr th:only-of-type {\n",
              "        vertical-align: middle;\n",
              "    }\n",
              "\n",
              "    .dataframe tbody tr th {\n",
              "        vertical-align: top;\n",
              "    }\n",
              "\n",
              "    .dataframe thead th {\n",
              "        text-align: right;\n",
              "    }\n",
              "</style>\n",
              "<table border=\"1\" class=\"dataframe\">\n",
              "  <thead>\n",
              "    <tr style=\"text-align: right;\">\n",
              "      <th></th>\n",
              "      <th>count</th>\n",
              "    </tr>\n",
              "    <tr>\n",
              "      <th>room_in_apt</th>\n",
              "      <th></th>\n",
              "    </tr>\n",
              "  </thead>\n",
              "  <tbody>\n",
              "    <tr>\n",
              "      <th>0</th>\n",
              "      <td>196767</td>\n",
              "    </tr>\n",
              "    <tr>\n",
              "      <th>1</th>\n",
              "      <td>254</td>\n",
              "    </tr>\n",
              "  </tbody>\n",
              "</table>\n",
              "</div><br><label><b>dtype:</b> int64</label>"
            ]
          },
          "metadata": {},
          "execution_count": 35
        }
      ],
      "source": [
        "# Add code here 🔧\n",
        "# Group listing by year and calc avg price each year\n",
        "print(df.groupby('year')['price'].mean())\n",
        "# See how common room rentals are\n",
        "df['room_in_apt'].value_counts().head(10)\n",
        "\n",
        "# Answer to question: First, we see that all price data (grouped by year) is of the floating point data type. We observe the trend that as year increases, so does the average price.\n",
        "# Futher, when examining how common room rentals are, we see that the vast majority of room_in_apt values (196767) are 0, indicating no room, and only\n",
        "# 254 are 1, indicating a truthy value and a room."
      ]
    },
    {
      "cell_type": "markdown",
      "metadata": {
        "id": "HBM7HwzkNPTW"
      },
      "source": [
        "🔧 Add comment here:\n"
      ]
    },
    {
      "cell_type": "markdown",
      "metadata": {
        "id": "FdiPlwBLe5yL"
      },
      "source": [
        "## Export Your Notebook to Submit in Canvas\n",
        "- Use the instructions from Lab 1"
      ]
    },
    {
      "cell_type": "code",
      "execution_count": 37,
      "metadata": {
        "id": "R7WMB-7Be5yL",
        "colab": {
          "base_uri": "https://localhost:8080/"
        },
        "outputId": "2ce934ca-d6e5-4f6b-b2b9-f0927bf599e2"
      },
      "outputs": [
        {
          "output_type": "stream",
          "name": "stdout",
          "text": [
            "[NbConvertApp] Converting notebook lab_04_data_understanding.ipynb to html\n",
            "[NbConvertApp] WARNING | Alternative text is missing on 3 image(s).\n",
            "[NbConvertApp] Writing 378412 bytes to lab_04_data_understanding.html\n"
          ]
        }
      ],
      "source": [
        "!jupyter nbconvert --to html \"lab_04_data_understanding.ipynb\""
      ]
    },
    {
      "cell_type": "code",
      "source": [],
      "metadata": {
        "id": "nc_6pdBdxce-"
      },
      "execution_count": null,
      "outputs": []
    }
  ],
  "metadata": {
    "colab": {
      "provenance": []
    },
    "kernelspec": {
      "display_name": "Python 3",
      "name": "python3"
    },
    "language_info": {
      "name": "python"
    }
  },
  "nbformat": 4,
  "nbformat_minor": 0
}