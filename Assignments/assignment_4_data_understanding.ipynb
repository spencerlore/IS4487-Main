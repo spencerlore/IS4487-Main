{
  "cells": [
    {
      "cell_type": "markdown",
      "metadata": {
        "id": "view-in-github",
        "colab_type": "text"
      },
      "source": [
        "<a href=\"https://colab.research.google.com/github/spencerlore/IS4487-Main/blob/main/Assignments/assignment_4_data_understanding.ipynb\" target=\"_parent\"><img src=\"https://colab.research.google.com/assets/colab-badge.svg\" alt=\"Open In Colab\"/></a>"
      ]
    },
    {
      "cell_type": "markdown",
      "metadata": {
        "id": "p_Yu45OYdj3Y"
      },
      "source": [
        "# IS4487 Week 4 - Assignment\n",
        "\n",
        "### Outline\n",
        "\n",
        "Our Goals with this Project:\n",
        "\n",
        "1. Import and pre-review the data\n",
        "2. Examine or profile the data: assess the shape, data types, distributions, missing values or inconsistencies\n",
        "3. Exploratory data analytics (EDA): create visualizations to better understand the variables and relationships in the data\n",
        "\n",
        "<a href=\"https://colab.research.google.com/github/vandanara/UofUtah_IS4487/blob/main/Assignments/assignment_4_data_understanding.ipynb\" target=\"_parent\"><img src=\"https://colab.research.google.com/assets/colab-badge.svg\" alt=\"Open In Colab\"/></a>"
      ]
    },
    {
      "cell_type": "markdown",
      "metadata": {
        "id": "OZrtT0lUaEUT"
      },
      "source": [
        "### AdviseInvest Data Dictionary\n",
        "\n",
        "| Variable | Description | Type | Code |\n",
        "|:---|:---|:---|:---|\n",
        "| Answered | Customer response | Binary | 0: customer did not answer scheduled call; 1: customer answered scheduled call |\n",
        "| Income | Customer income in US dollars | Numeric | |\n",
        "| Female | Customer gender | Binary | 0: female; 1: male |\n",
        "| Age | Age in years | Numeric | |\n",
        "| Job | Nature of job | Categorical | 0 : unemployed; 1 : entry level position; 2 : midlevel position; 3 : management/ self-employed/ highly qualified employee/ officer |\n",
        "| Num_dependents | Number of people for whom the customer provides maintenance | Numeric | |\n",
        "| Rent | Customer rents | Binary | 0: no; 1: yes |\n",
        "| Own_res | Customer owns residence | Binary | 0: no; 1: yes |\n",
        "| New_car | Recent new car purchase | Binary | New car purchase in the last 3 months: 0: no, 1: yes |\n",
        "| Chk_acct | Checking account status | Categorical | 0 : no checking account; 1: checking < 200 USD; 2 : 200 < checking < 2000 USD; 3: 2000 < checking < 35000 USD; 4: >= 3500 USD |\n",
        "| Sav_acct | Average balance in savings account | Categorical | 0 : no savings account; 1 : 100 <= savings < 500 USD; 2 : 500 <= savings < 2000 USD; 3 : 2000 < savings < 35000 USD; 4: >= 3500 USD |\n",
        "| Num_accts | Number of accounts owned by customer | Numeric | |\n",
        "| Mobile | Mobile phone | Binary | 0: customer provided non‐mobile phone for follow‐up call; 1: customer provided mobile phone for follow‐up call |\n",
        "| Product | Type of product purchased after conversation with sales rep | Categorical | 0: customer did not answer call; 1: customer answered but did not purchase a product; 2: customer answered and purchased Beginner plan; 3: customer answered and purchased Intermediate plan; 4: customer answered and purchased Advanced plan |\n"
      ]
    },
    {
      "cell_type": "markdown",
      "metadata": {
        "id": "UE93RwXhgiJS"
      },
      "source": [
        "### Load Libraries\n",
        "\n",
        "Import the libraries you will need, such as:\n",
        "- Pandas\n",
        "- Matplotlib\n",
        "- Seaborn\n"
      ]
    },
    {
      "cell_type": "code",
      "execution_count": 1,
      "metadata": {
        "id": "JYRZY5n0gfNe"
      },
      "outputs": [],
      "source": [
        "#Import libraries 🔧\n",
        "import pandas as pd\n",
        "import matplotlib as plt\n",
        "import seaborn as sns\n"
      ]
    },
    {
      "cell_type": "markdown",
      "source": [
        "## Task 1: Import the data and preview it\n",
        "\n",
        "We are going to import data from the AdviseInvest historical dataset into a dataframe (in GitHub go to the folder called DataSets - click on *'Raw'* button to get the url of raw dataset)\n",
        "\n",
        "As in the AdviseInvest case, we will assume `answered` is our target variable. Let us a"
      ],
      "metadata": {
        "id": "Ywqhz3ZKcnLE"
      }
    },
    {
      "cell_type": "code",
      "source": [
        "#Import the data 🔧\n",
        "url = \"https://raw.githubusercontent.com/vandanara/UofUtah_IS4487/refs/heads/main/DataSets/adviseinvest_historical_data.csv\"\n",
        "df = pd.read_csv(url)\n"
      ],
      "metadata": {
        "id": "rx7kHsXAb9On"
      },
      "execution_count": 2,
      "outputs": []
    },
    {
      "cell_type": "markdown",
      "metadata": {
        "id": "bREaXo8jfu-O"
      },
      "source": [
        "## Task 2: Initial Data Understanding: examine or profile the data\n",
        "\n",
        " - Profile the dataframe - obtain the shape of the table, data types, counts of variables, missing values\n",
        " - Are there any duplicate rows?\n",
        " - Describe the dataframe - Look for any outliers\n",
        "\n"
      ]
    },
    {
      "cell_type": "code",
      "source": [
        "#View the shape of the data\n",
        "print(df.shape)"
      ],
      "metadata": {
        "id": "57GyfCcpwZLK",
        "outputId": "27998ade-a46e-43c9-ff50-f47b9b6d41cb",
        "colab": {
          "base_uri": "https://localhost:8080/"
        }
      },
      "execution_count": 4,
      "outputs": [
        {
          "output_type": "stream",
          "name": "stdout",
          "text": [
            "(29504, 14)\n"
          ]
        }
      ]
    },
    {
      "cell_type": "code",
      "execution_count": 5,
      "metadata": {
        "id": "0wkRD0aBa_H7",
        "outputId": "fa2664b8-a06c-45ff-9560-4f3a2e18b909",
        "colab": {
          "base_uri": "https://localhost:8080/"
        }
      },
      "outputs": [
        {
          "output_type": "stream",
          "name": "stdout",
          "text": [
            "<bound method DataFrame.info of        answered  income female  age  job  num_dependents  rent  own_res  \\\n",
            "0             1   13520      0   23    0               1     1        0   \n",
            "1             0   14780      0   22    2               1     0        1   \n",
            "2             1   37570      0   62    2               1     0        0   \n",
            "3             0   12450      0   33    2               1     0        1   \n",
            "4             0   12400      0   48    1               2     0        0   \n",
            "...         ...     ...    ...  ...  ...             ...   ...      ...   \n",
            "29499         1   11630      0   44    2               1     0        1   \n",
            "29500         0   28640      0   34    1               2     0        1   \n",
            "29501         1   34480      0   74    1               1     0        1   \n",
            "29502         1   10550      0   30    2               1     0        1   \n",
            "29503         0  125790      0   44    3               1     0        0   \n",
            "\n",
            "       new_car  chk_acct  sav_acct  num_accts  mobile  product  \n",
            "0          0.0         0         2          0       1        2  \n",
            "1          0.0         3         0          3       0        0  \n",
            "2          1.0         3         0          4       0        4  \n",
            "3          0.0         1         0          2       0        0  \n",
            "4          1.0         2         1          4       0        0  \n",
            "...        ...       ...       ...        ...     ...      ...  \n",
            "29499      1.0         3         2          2       0        4  \n",
            "29500      0.0         2         0          2       0        0  \n",
            "29501      0.0         3         0          3       0        4  \n",
            "29502      1.0         3         0          1       0        1  \n",
            "29503      0.0         1         0          4       1        0  \n",
            "\n",
            "[29504 rows x 14 columns]>\n"
          ]
        }
      ],
      "source": [
        "#View the datatypes, counts and missing values 🔧\n",
        "print(df.info)"
      ]
    },
    {
      "cell_type": "code",
      "source": [
        "#Check for duplicated rows\n",
        "print(df.duplicated())"
      ],
      "metadata": {
        "id": "ezE4qp5tWmKU",
        "outputId": "d68dc138-49ce-40b3-95ec-516879f3b2e0",
        "colab": {
          "base_uri": "https://localhost:8080/"
        }
      },
      "execution_count": 11,
      "outputs": [
        {
          "output_type": "stream",
          "name": "stdout",
          "text": [
            "0        False\n",
            "1        False\n",
            "2        False\n",
            "3        False\n",
            "4        False\n",
            "         ...  \n",
            "29499     True\n",
            "29500     True\n",
            "29501     True\n",
            "29502     True\n",
            "29503     True\n",
            "Length: 29504, dtype: bool\n"
          ]
        }
      ]
    },
    {
      "cell_type": "code",
      "execution_count": 12,
      "metadata": {
        "id": "QkKLnfFrbEOS",
        "outputId": "bae27619-99f8-4f0a-9a9b-fc7f20a4bfd9",
        "colab": {
          "base_uri": "https://localhost:8080/"
        }
      },
      "outputs": [
        {
          "output_type": "stream",
          "name": "stdout",
          "text": [
            "           answered         income           age           job  \\\n",
            "count  29504.000000   29504.000000  29504.000000  29504.000000   \n",
            "mean       0.546638   33766.893303     34.773454      1.915401   \n",
            "std        0.497829   29379.202710     11.369865      0.658183   \n",
            "min        0.000000  -65600.000000     19.000000      0.000000   \n",
            "25%        0.000000   13550.000000     26.000000      2.000000   \n",
            "50%        1.000000   23310.000000     32.000000      2.000000   \n",
            "75%        1.000000   41690.000000     40.000000      2.000000   \n",
            "max        1.000000  159450.000000    132.000000      3.000000   \n",
            "\n",
            "       num_dependents          rent       own_res       new_car      chk_acct  \\\n",
            "count    29504.000000  29504.000000  29504.000000  29502.000000  29504.000000   \n",
            "mean         1.140998      0.210412      0.681128      0.240797      1.468547   \n",
            "std          0.348025      0.407608      0.466047      0.427575      1.234727   \n",
            "min          1.000000      0.000000      0.000000      0.000000      0.000000   \n",
            "25%          1.000000      0.000000      0.000000      0.000000      0.000000   \n",
            "50%          1.000000      0.000000      1.000000      0.000000      1.000000   \n",
            "75%          1.000000      0.000000      1.000000      0.000000      3.000000   \n",
            "max          2.000000      1.000000      1.000000      1.000000      3.000000   \n",
            "\n",
            "           sav_acct     num_accts        mobile       product  \n",
            "count  29504.000000  29504.000000  29504.000000  29504.000000  \n",
            "mean       0.956616      2.458345      0.091106      1.535792  \n",
            "std        1.483946     19.497380      0.287765      1.625916  \n",
            "min        0.000000      0.000000      0.000000      0.000000  \n",
            "25%        0.000000      2.000000      0.000000      0.000000  \n",
            "50%        0.000000      2.000000      0.000000      1.000000  \n",
            "75%        2.000000      3.000000      0.000000      3.000000  \n",
            "max        4.000000   3345.000000      1.000000      4.000000  \n"
          ]
        }
      ],
      "source": [
        "#Describe the data's numerical columns - are there outliers? look at min, max values compared to mean🔧\n",
        "print(df.describe())\n",
        "#Answer: Yes there are outliers. For instance, the num_accounts max value.\n"
      ]
    },
    {
      "cell_type": "code",
      "source": [
        "#Remove any extreme outliers that you find - check for clues in the output of describe\n",
        "\n"
      ],
      "metadata": {
        "id": "LSKRgsUUJqPt"
      },
      "execution_count": 14,
      "outputs": []
    },
    {
      "cell_type": "markdown",
      "metadata": {
        "id": "w8W3wh2yRBt8"
      },
      "source": [
        "## Task 3: Explore the data - create visualizations\n",
        "- Explore the relationships between the target and independent variables\n",
        "- Create at least five charts to show the relationships, using different chart types that are approriate to the analysis\n",
        "- Ensure that all charts are clearly labeled and formatted"
      ]
    },
    {
      "cell_type": "code",
      "execution_count": null,
      "metadata": {
        "id": "b-wswJqUjsYK"
      },
      "outputs": [],
      "source": [
        "# Chart 1"
      ]
    },
    {
      "cell_type": "code",
      "execution_count": null,
      "metadata": {
        "id": "_9m05ivbRBt9"
      },
      "outputs": [],
      "source": [
        "# Chart 2"
      ]
    },
    {
      "cell_type": "code",
      "execution_count": null,
      "metadata": {
        "id": "PAAnoQQ5RBt9"
      },
      "outputs": [],
      "source": [
        "# Chart 3 🔧"
      ]
    },
    {
      "cell_type": "code",
      "execution_count": null,
      "metadata": {
        "id": "cHRBRNvFRBt9"
      },
      "outputs": [],
      "source": [
        "# Chart 4 🔧"
      ]
    },
    {
      "cell_type": "code",
      "execution_count": null,
      "metadata": {
        "id": "qpo2ky9NRBt-"
      },
      "outputs": [],
      "source": [
        "# Chart 5 🔧"
      ]
    },
    {
      "cell_type": "markdown",
      "metadata": {
        "id": "MzLoM10Eo2j3"
      },
      "source": [
        "## Task 4: Summarize Your Findings\n",
        "### 4.1: Are all of the variables useful and applicable to the business need?  (you should reference the target variable and whether other variables have are likely to be correlated with the target)"
      ]
    },
    {
      "cell_type": "markdown",
      "metadata": {
        "id": "62yRShXuRBt-"
      },
      "source": [
        "Write your response below:  🔧"
      ]
    },
    {
      "cell_type": "markdown",
      "metadata": {
        "id": "VUIdByA8RBt_"
      },
      "source": [
        "### 4.2: In what ways could the dataset be improved?  Are there any data quality issues or data types that should be fixed?\n",
        "\n",
        "Write your response below: 🔧"
      ]
    },
    {
      "cell_type": "markdown",
      "metadata": {
        "id": "eZDCN5AeRBt_"
      },
      "source": []
    },
    {
      "cell_type": "markdown",
      "metadata": {
        "id": "DVnh0TVORBt_"
      },
      "source": [
        "## Submission Instructions\n",
        "\n",
        "✅ **Before submitting:**\n",
        "- Make sure all code cells are run and outputs are visible  \n",
        "- All markdown questions are answered thoughtfully  \n",
        "- Submit the assignment as an **HTML file** on Canvas"
      ]
    },
    {
      "cell_type": "code",
      "execution_count": null,
      "metadata": {
        "id": "Gvq3cf7CRBt_"
      },
      "outputs": [],
      "source": [
        "!jupyter nbconvert --to html \"assignment_04_LastnameFirstname.ipynb\""
      ]
    }
  ],
  "metadata": {
    "colab": {
      "provenance": [],
      "include_colab_link": true
    },
    "kernelspec": {
      "display_name": "Python 3",
      "name": "python3"
    },
    "language_info": {
      "name": "python"
    }
  },
  "nbformat": 4,
  "nbformat_minor": 0
}